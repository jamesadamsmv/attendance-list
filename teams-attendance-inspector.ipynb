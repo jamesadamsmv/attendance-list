{
 "cells": [
  {
   "cell_type": "markdown",
   "metadata": {},
   "source": [
    "## Attendance List Inspector\n",
    "\n",
    "This notebook looks for two files:\n",
    "\n",
    "1. an `apprentices.csv` that contains the columns `name`, `email` and `cohort`, and lists **all** the apprentices you want to track attendance for. This should not need to change once set up.\n",
    "2. a file that contains the actual Teams attendance report you want to inspect. This can be obtained by downloading the report from Teams, and saving it into the same folder as this notebook. You can rename the file to anything you want or leave it with the default name Teams gives it - either way, enter the filename into the `FILE` parameter in the first code cell below, remembering the `.csv` extension.\n",
    "\n",
    "See the included CSVs for examples. You can just copy and paste directly into `apprentice.csv` with your own apprentices (don't forget to remove the example rows!) and save over `attendance.csv` with the latest Teams report each time to make things easier.\n",
    "\n",
    "Once both CSV files are in place, just run the code below.\n",
    "\n",
    "**Note:** Enter the cohort name exactly as it appears in the `apprentices.csv` file in the variable `COHORT` in the first cell."
   ]
  },
  {
   "cell_type": "code",
   "execution_count": 1,
   "metadata": {},
   "outputs": [],
   "source": [
    "# ==========\n",
    "# PARAMETERS\n",
    "# ==========\n",
    "\n",
    "COHORT = 'DF(OPEN)-SEPT (TEAMS) E'\n",
    "FILE = \"attendance.csv\""
   ]
  },
  {
   "cell_type": "code",
   "execution_count": 2,
   "metadata": {},
   "outputs": [],
   "source": [
    "import pandas as pd\n",
    "import re\n",
    "import datetime\n",
    "\n",
    "# read in all apprentice names, emails and cohorts\n",
    "apps = pd.read_csv('apprentices.csv')\n",
    "apps['email'] = apps['email'].str.lower()\n",
    "apps.rename(columns = {'name': 'app_name'}, inplace = True)\n",
    "\n",
    "# filter for a certain cohort in your apprentices list\n",
    "apps = apps[apps['cohort'] == COHORT].copy()\n",
    "\n",
    "# read in attendance report data and just keep name and email columns\n",
    "attn = pd.read_csv(FILE, encoding = 'utf_16_le', sep = '\\t', skiprows = 9, engine = 'python')\n",
    "split_row = attn[attn['First Join'].isnull()].index.values[0]\n",
    "attn = attn.iloc[0:split_row].copy()\n",
    "attn.columns = attn.columns.str.lower()\n",
    "attn.rename(columns = {'name': 'teams_handle'}, inplace = True)\n",
    "attn['email'] = attn['email'].str.lower()\n",
    "attn['email'].fillna('no email', inplace = True)\n",
    "attn['attended'] = 'yes'\n",
    "attn.drop_duplicates(inplace = True)\n",
    "\n",
    "# merge\n",
    "all_attn = apps.merge(attn, on = ['email'], how = 'outer')\n",
    "all_attn['attended'].fillna('no', inplace = True)"
   ]
  },
  {
   "cell_type": "markdown",
   "metadata": {},
   "source": [
    "## Did Not Attend\n",
    "\n",
    "The following apprentices did **not** attend:"
   ]
  },
  {
   "cell_type": "code",
   "execution_count": 3,
   "metadata": {},
   "outputs": [
    {
     "data": {
      "text/html": [
       "<div>\n",
       "<style scoped>\n",
       "    .dataframe tbody tr th:only-of-type {\n",
       "        vertical-align: middle;\n",
       "    }\n",
       "\n",
       "    .dataframe tbody tr th {\n",
       "        vertical-align: top;\n",
       "    }\n",
       "\n",
       "    .dataframe thead th {\n",
       "        text-align: right;\n",
       "    }\n",
       "</style>\n",
       "<table border=\"1\" class=\"dataframe\">\n",
       "  <thead>\n",
       "    <tr style=\"text-align: right;\">\n",
       "      <th></th>\n",
       "      <th>app_name</th>\n",
       "    </tr>\n",
       "  </thead>\n",
       "  <tbody>\n",
       "    <tr>\n",
       "      <th>1</th>\n",
       "      <td>Scam Likely</td>\n",
       "    </tr>\n",
       "  </tbody>\n",
       "</table>\n",
       "</div>"
      ],
      "text/plain": [
       "      app_name\n",
       "1  Scam Likely"
      ]
     },
     "execution_count": 3,
     "metadata": {},
     "output_type": "execute_result"
    }
   ],
   "source": [
    "all_attn[all_attn['attended'] == 'no'][['app_name']].sort_values(by = ['app_name'])"
   ]
  },
  {
   "cell_type": "markdown",
   "metadata": {},
   "source": [
    "## Attended, No Email\n",
    "\n",
    "The following apprentices attended but did not provide an email to Teams, and so need to be manually checked:"
   ]
  },
  {
   "cell_type": "code",
   "execution_count": 4,
   "metadata": {},
   "outputs": [
    {
     "data": {
      "text/html": [
       "<div>\n",
       "<style scoped>\n",
       "    .dataframe tbody tr th:only-of-type {\n",
       "        vertical-align: middle;\n",
       "    }\n",
       "\n",
       "    .dataframe tbody tr th {\n",
       "        vertical-align: top;\n",
       "    }\n",
       "\n",
       "    .dataframe thead th {\n",
       "        text-align: right;\n",
       "    }\n",
       "</style>\n",
       "<table border=\"1\" class=\"dataframe\">\n",
       "  <thead>\n",
       "    <tr style=\"text-align: right;\">\n",
       "      <th></th>\n",
       "      <th>teams_handle</th>\n",
       "    </tr>\n",
       "  </thead>\n",
       "  <tbody>\n",
       "    <tr>\n",
       "      <th>2</th>\n",
       "      <td>Scam (Likely)</td>\n",
       "    </tr>\n",
       "  </tbody>\n",
       "</table>\n",
       "</div>"
      ],
      "text/plain": [
       "    teams_handle\n",
       "2  Scam (Likely)"
      ]
     },
     "execution_count": 4,
     "metadata": {},
     "output_type": "execute_result"
    }
   ],
   "source": [
    "all_attn[all_attn['email'] == 'no email'][['teams_handle']]"
   ]
  },
  {
   "cell_type": "markdown",
   "metadata": {},
   "source": [
    "## Attended\n",
    "\n",
    "The following apprentices attended:"
   ]
  },
  {
   "cell_type": "code",
   "execution_count": 5,
   "metadata": {},
   "outputs": [
    {
     "data": {
      "text/html": [
       "<div>\n",
       "<style scoped>\n",
       "    .dataframe tbody tr th:only-of-type {\n",
       "        vertical-align: middle;\n",
       "    }\n",
       "\n",
       "    .dataframe tbody tr th {\n",
       "        vertical-align: top;\n",
       "    }\n",
       "\n",
       "    .dataframe thead th {\n",
       "        text-align: right;\n",
       "    }\n",
       "</style>\n",
       "<table border=\"1\" class=\"dataframe\">\n",
       "  <thead>\n",
       "    <tr style=\"text-align: right;\">\n",
       "      <th></th>\n",
       "      <th>app_name</th>\n",
       "      <th>cohort</th>\n",
       "    </tr>\n",
       "  </thead>\n",
       "  <tbody>\n",
       "    <tr>\n",
       "      <th>0</th>\n",
       "      <td>John Smith</td>\n",
       "      <td>DF(OPEN)-SEPT (TEAMS) E</td>\n",
       "    </tr>\n",
       "  </tbody>\n",
       "</table>\n",
       "</div>"
      ],
      "text/plain": [
       "     app_name                   cohort\n",
       "0  John Smith  DF(OPEN)-SEPT (TEAMS) E"
      ]
     },
     "execution_count": 5,
     "metadata": {},
     "output_type": "execute_result"
    }
   ],
   "source": [
    "all_attn[all_attn['attended'] == 'yes'][['app_name', 'cohort']].dropna()"
   ]
  },
  {
   "cell_type": "markdown",
   "metadata": {},
   "source": [
    "## All\n",
    "\n",
    "These are the apprentices in the cohort, with their attendance status:"
   ]
  },
  {
   "cell_type": "code",
   "execution_count": 6,
   "metadata": {},
   "outputs": [
    {
     "data": {
      "text/html": [
       "<style type=\"text/css\">\n",
       "#T_28276_row0_col1 {\n",
       "  color: #16a34a;\n",
       "  font-weight: bold;\n",
       "}\n",
       "#T_28276_row1_col1 {\n",
       "  color: #b91c1c;\n",
       "  font-weight: bold;\n",
       "}\n",
       "</style>\n",
       "<table id=\"T_28276\">\n",
       "  <thead>\n",
       "    <tr>\n",
       "      <th class=\"blank level0\" >&nbsp;</th>\n",
       "      <th id=\"T_28276_level0_col0\" class=\"col_heading level0 col0\" >app_name</th>\n",
       "      <th id=\"T_28276_level0_col1\" class=\"col_heading level0 col1\" >attended</th>\n",
       "    </tr>\n",
       "  </thead>\n",
       "  <tbody>\n",
       "    <tr>\n",
       "      <th id=\"T_28276_level0_row0\" class=\"row_heading level0 row0\" >0</th>\n",
       "      <td id=\"T_28276_row0_col0\" class=\"data row0 col0\" >John Smith</td>\n",
       "      <td id=\"T_28276_row0_col1\" class=\"data row0 col1\" >yes</td>\n",
       "    </tr>\n",
       "    <tr>\n",
       "      <th id=\"T_28276_level0_row1\" class=\"row_heading level0 row1\" >1</th>\n",
       "      <td id=\"T_28276_row1_col0\" class=\"data row1 col0\" >Scam Likely</td>\n",
       "      <td id=\"T_28276_row1_col1\" class=\"data row1 col1\" >no</td>\n",
       "    </tr>\n",
       "  </tbody>\n",
       "</table>\n"
      ],
      "text/plain": [
       "<pandas.io.formats.style.Styler at 0x1ff567b4190>"
      ]
     },
     "execution_count": 6,
     "metadata": {},
     "output_type": "execute_result"
    }
   ],
   "source": [
    "all_attn[['app_name', 'attended']].dropna().style.applymap(lambda x: 'color: #b91c1c;font-weight:bold;' if x == 'no' else 'color: #16a34a;font-weight:bold;', subset = ['attended'])"
   ]
  },
  {
   "cell_type": "markdown",
   "metadata": {},
   "source": [
    "## Stats"
   ]
  },
  {
   "cell_type": "code",
   "execution_count": 7,
   "metadata": {},
   "outputs": [
    {
     "name": "stdout",
     "output_type": "stream",
     "text": [
      "Total attendance: 1 out of 2 (50.0%)\n"
     ]
    }
   ],
   "source": [
    "stats = all_attn[['app_name', 'attended']].dropna().copy()\n",
    "\n",
    "stats['attended'] = stats['attended'].map({'yes': 1, 'no': 0})\n",
    "\n",
    "print(f\"Total attendance: {stats['attended'].sum()} out of {len(stats)} ({round(stats['attended'].sum() / len(stats), 2) * 100}%)\")"
   ]
  },
  {
   "cell_type": "markdown",
   "metadata": {},
   "source": [
    "## Save to file\n",
    "\n",
    "**Optional.**\n",
    "\n",
    "Run the cell below to save the full attendance report to a CSV, with today's date added as a column. This could be used later to concat with other attendance reports for further analysis.\n",
    "\n",
    "**Note:** If running this report on a different date to the workshop date, you can also change the `date` column below to another date by uncommenting and entering a custom date string in the format `yyyy-mm-dd` into the `WORKSHOP_DATE` variable below."
   ]
  },
  {
   "cell_type": "code",
   "execution_count": null,
   "metadata": {},
   "outputs": [],
   "source": [
    "WORKSHOP_DATE = datetime.datetime.now().strftime(\"%Y-%m-%d\")\n",
    "# WORKSHOP_DATE = \"23-07-10\"\n",
    "\n",
    "to_save = all_attn[['app_name', 'attended']].dropna().copy()\n",
    "\n",
    "to_save['date'] = pd.to_datetime(WORKSHOP_DATE)\n",
    "\n",
    "# optional - add more metadata to this dataset\n",
    "# this could also be joined later using a simple lookup table and merging on date\n",
    "\n",
    "# to_save['module'] = 1\n",
    "# to_save['workshop_title'] = \"Data in Industry\"\n",
    "# to_save['day'] = 1\n",
    "\n",
    "# save to CSV\n",
    "\n",
    "filename = WORKSHOP_DATE + \"_\" + COHORT + \".csv\"\n",
    "to_save.to_csv(filename)\n"
   ]
  },
  {
   "cell_type": "markdown",
   "metadata": {},
   "source": [
    "## TEST ZONE\n",
    "\n",
    "**Note:** This is some extra code I've been trying out for my own use. Feel free to use, tweak, comment out or delete it as you like!"
   ]
  },
  {
   "cell_type": "markdown",
   "metadata": {},
   "source": [
    "The code below will read multiple Teams reports saved into a sub-directory called `teams_reports` that exists in the same folder as this notebook. It will then show attendance info across all the dates given in those reports. Be aware:\n",
    "\n",
    "1. For this to work, do not change the filename of the Teams report when you save it (as it contains the date info used)\n",
    "2. This does not take into account missing email addresses on Teams as the above code does, so will need to be double checked"
   ]
  },
  {
   "cell_type": "code",
   "execution_count": null,
   "metadata": {},
   "outputs": [],
   "source": [
    "# RAW TEAMS - DIRECTORY VERSION\n",
    "from os import listdir\n",
    "from os.path import isfile, join\n",
    "\n",
    "# read in all files in subdir containing Teams reports\n",
    "files = [f for f in listdir('teams_reports') if isfile(join('teams_reports', f))]\n",
    "\n",
    "# blank frame for storage\n",
    "attn_dates = pd.DataFrame()\n",
    "\n",
    "# loop through each file in subdir and process date from filename,\n",
    "# extract attendance information and concat with storage frame,\n",
    "# and process attendance information\n",
    "for file in files:\n",
    "    match = re.search(r'\\d+-\\d{2}-\\d{2}', file)\n",
    "    date = datetime.datetime.strptime(match.group(), '%m-%d-%y')\n",
    "\n",
    "    df = pd.read_csv('teams_reports/' + file, encoding = 'utf_16_le', sep = '\\t', skiprows = 9, engine = 'python')\n",
    "\n",
    "    split_row = df[df['First Join'].isnull()].index.values[0]\n",
    "    df = df.iloc[0:split_row].copy()\n",
    "\n",
    "    df.columns = df.columns.str.lower()\n",
    "    df.rename(columns = {'name': 'teams_handle'}, inplace = True)\n",
    "    df['email'] = df['email'].str.lower()\n",
    "    df['email'].fillna('no email', inplace = True)\n",
    "    df['attended'] = 'yes'\n",
    "    df.drop_duplicates(inplace = True)\n",
    "\n",
    "    df = apps.merge(df, on = ['email'], how = 'outer')\n",
    "\n",
    "    df['date'] = date\n",
    "    df['attended'].fillna('no', inplace = True)\n",
    "\n",
    "    attn_dates = pd.concat([attn_dates, df])\n",
    "\n",
    "# pivot dates wide\n",
    "attn_dates_wide = attn_dates[['app_name', 'attended', 'date']].dropna().pivot(index = 'app_name', columns = 'date', values = 'attended').fillna('no').reset_index().copy()\n",
    "\n",
    "# create boolean list for subset of style applied, based on number of columns in df\n",
    "cols = len(attn_dates_wide.columns) - 1\n",
    "\n",
    "subset = [False]\n",
    "while cols > 0:\n",
    "    subset.append(True)\n",
    "    cols -= 1\n",
    "\n",
    "# style output for yes / no\n",
    "attn_dates_wide.style.applymap(lambda x: 'color: #b91c1c;font-weight:bold;' if x == 'no' else 'color: #16a34a;font-weight:bold;', subset = subset)"
   ]
  }
 ],
 "metadata": {
  "kernelspec": {
   "display_name": "Python 3",
   "language": "python",
   "name": "python3"
  },
  "language_info": {
   "codemirror_mode": {
    "name": "ipython",
    "version": 3
   },
   "file_extension": ".py",
   "mimetype": "text/x-python",
   "name": "python",
   "nbconvert_exporter": "python",
   "pygments_lexer": "ipython3",
   "version": "3.11.0"
  },
  "orig_nbformat": 4
 },
 "nbformat": 4,
 "nbformat_minor": 2
}
