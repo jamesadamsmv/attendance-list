{
 "cells": [
  {
   "cell_type": "markdown",
   "metadata": {},
   "source": [
    "## Attendance List Parser\n",
    "\n",
    "This notebook looks for two files:\n",
    "\n",
    "1. an `apprentices.csv` that contains the columns `name`, `email` and `cohort`, and lists **all** the apprentices in your cohort. This should not need to change once set up.\n",
    "2. an `attendance.csv` that just contains the columns `Name` and `Email`, and just lists the apprentices that attended the workshop in question. This can be most easily obtained by just copying the attendance section out of the Teams report and pasting it into a new CSV.\n",
    "\n",
    "See the included example CSVs for details - you can just copy and paste directly into these (don't forget to remove the example rows!)\n",
    "\n",
    "Once both these files are in place, just run the code below. **Note:** To restrict your list to just one cohort, enter the cohort name exactly as it appears in the `apprentices.csv` file in the variable `COHORT` in the first cell."
   ]
  },
  {
   "cell_type": "code",
   "execution_count": 1,
   "metadata": {},
   "outputs": [],
   "source": [
    "import pandas as pd\n",
    "\n",
    "# read in all apprentice names, emails and cohorts\n",
    "apps = pd.read_csv('apprentices.csv')\n",
    "apps['email'] = apps['email'].str.lower()\n",
    "apps.rename(columns = {'name': 'app_name'}, inplace = True)\n",
    "\n",
    "# filter for a certain cohort in your apprentices list\n",
    "COHORT = 'DF(OPEN)-SEPT (TEAMS) E'\n",
    "apps = apps[apps['cohort'] == COHORT].copy()\n",
    "\n",
    "# read in attendance report data and just keep name and email columns\n",
    "attn = pd.read_csv('attendance.csv')[['Name', 'Email']]\n",
    "attn.columns = attn.columns.str.lower()\n",
    "attn.rename(columns = {'name': 'teams_handle'}, inplace = True)\n",
    "attn['email'] = attn['email'].str.lower()\n",
    "attn['email'].fillna('no email', inplace = True)\n",
    "attn['attended'] = 'yes'\n",
    "attn.drop_duplicates(inplace = True)\n",
    "\n",
    "# merge\n",
    "all_attn = apps.merge(attn, on = ['email'], how = 'outer')\n",
    "all_attn['attended'].fillna('no', inplace = True)"
   ]
  },
  {
   "cell_type": "markdown",
   "metadata": {},
   "source": [
    "## Did Not Attend\n",
    "\n",
    "The following apprentices did **not** attend:"
   ]
  },
  {
   "cell_type": "code",
   "execution_count": 2,
   "metadata": {},
   "outputs": [
    {
     "data": {
      "text/html": [
       "<div>\n",
       "<style scoped>\n",
       "    .dataframe tbody tr th:only-of-type {\n",
       "        vertical-align: middle;\n",
       "    }\n",
       "\n",
       "    .dataframe tbody tr th {\n",
       "        vertical-align: top;\n",
       "    }\n",
       "\n",
       "    .dataframe thead th {\n",
       "        text-align: right;\n",
       "    }\n",
       "</style>\n",
       "<table border=\"1\" class=\"dataframe\">\n",
       "  <thead>\n",
       "    <tr style=\"text-align: right;\">\n",
       "      <th></th>\n",
       "      <th>app_name</th>\n",
       "      <th>cohort</th>\n",
       "    </tr>\n",
       "  </thead>\n",
       "  <tbody>\n",
       "    <tr>\n",
       "      <th>1</th>\n",
       "      <td>Scam Likely</td>\n",
       "      <td>DF(OPEN)-SEPT (TEAMS) E</td>\n",
       "    </tr>\n",
       "  </tbody>\n",
       "</table>\n",
       "</div>"
      ],
      "text/plain": [
       "      app_name                   cohort\n",
       "1  Scam Likely  DF(OPEN)-SEPT (TEAMS) E"
      ]
     },
     "execution_count": 2,
     "metadata": {},
     "output_type": "execute_result"
    }
   ],
   "source": [
    "all_attn[all_attn['attended'] == 'no'][['app_name', 'cohort']].sort_values(by = ['cohort', 'app_name'])"
   ]
  },
  {
   "cell_type": "markdown",
   "metadata": {},
   "source": [
    "## Attended, No Email\n",
    "\n",
    "The following apprentices attended but did not provide an email to Teams, and so need to be manually checked:"
   ]
  },
  {
   "cell_type": "code",
   "execution_count": 3,
   "metadata": {},
   "outputs": [
    {
     "data": {
      "text/html": [
       "<div>\n",
       "<style scoped>\n",
       "    .dataframe tbody tr th:only-of-type {\n",
       "        vertical-align: middle;\n",
       "    }\n",
       "\n",
       "    .dataframe tbody tr th {\n",
       "        vertical-align: top;\n",
       "    }\n",
       "\n",
       "    .dataframe thead th {\n",
       "        text-align: right;\n",
       "    }\n",
       "</style>\n",
       "<table border=\"1\" class=\"dataframe\">\n",
       "  <thead>\n",
       "    <tr style=\"text-align: right;\">\n",
       "      <th></th>\n",
       "      <th>teams_handle</th>\n",
       "    </tr>\n",
       "  </thead>\n",
       "  <tbody>\n",
       "    <tr>\n",
       "      <th>2</th>\n",
       "      <td>Scam (Likely)</td>\n",
       "    </tr>\n",
       "  </tbody>\n",
       "</table>\n",
       "</div>"
      ],
      "text/plain": [
       "    teams_handle\n",
       "2  Scam (Likely)"
      ]
     },
     "execution_count": 3,
     "metadata": {},
     "output_type": "execute_result"
    }
   ],
   "source": [
    "all_attn[all_attn['email'] == 'no email'][['teams_handle']]"
   ]
  },
  {
   "cell_type": "markdown",
   "metadata": {},
   "source": [
    "## Attended\n",
    "\n",
    "The following apprentices attended:"
   ]
  },
  {
   "cell_type": "code",
   "execution_count": 4,
   "metadata": {},
   "outputs": [
    {
     "data": {
      "text/html": [
       "<div>\n",
       "<style scoped>\n",
       "    .dataframe tbody tr th:only-of-type {\n",
       "        vertical-align: middle;\n",
       "    }\n",
       "\n",
       "    .dataframe tbody tr th {\n",
       "        vertical-align: top;\n",
       "    }\n",
       "\n",
       "    .dataframe thead th {\n",
       "        text-align: right;\n",
       "    }\n",
       "</style>\n",
       "<table border=\"1\" class=\"dataframe\">\n",
       "  <thead>\n",
       "    <tr style=\"text-align: right;\">\n",
       "      <th></th>\n",
       "      <th>app_name</th>\n",
       "      <th>cohort</th>\n",
       "    </tr>\n",
       "  </thead>\n",
       "  <tbody>\n",
       "    <tr>\n",
       "      <th>0</th>\n",
       "      <td>John Smith</td>\n",
       "      <td>DF(OPEN)-SEPT (TEAMS) E</td>\n",
       "    </tr>\n",
       "  </tbody>\n",
       "</table>\n",
       "</div>"
      ],
      "text/plain": [
       "     app_name                   cohort\n",
       "0  John Smith  DF(OPEN)-SEPT (TEAMS) E"
      ]
     },
     "execution_count": 4,
     "metadata": {},
     "output_type": "execute_result"
    }
   ],
   "source": [
    "all_attn[all_attn['attended'] == 'yes'][['app_name', 'cohort']].dropna()"
   ]
  }
 ],
 "metadata": {
  "kernelspec": {
   "display_name": "Python 3",
   "language": "python",
   "name": "python3"
  },
  "language_info": {
   "codemirror_mode": {
    "name": "ipython",
    "version": 3
   },
   "file_extension": ".py",
   "mimetype": "text/x-python",
   "name": "python",
   "nbconvert_exporter": "python",
   "pygments_lexer": "ipython3",
   "version": "3.11.0"
  },
  "orig_nbformat": 4
 },
 "nbformat": 4,
 "nbformat_minor": 2
}
