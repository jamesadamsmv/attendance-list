{
 "cells": [
  {
   "cell_type": "markdown",
   "metadata": {},
   "source": [
    "## Attendance List Parser\n",
    "\n",
    "This notebook looks for two files:\n",
    "\n",
    "1. an `apprentices.csv` that contains the columns `name`, `email` and `cohort`, and lists **all** the apprentices in your cohort. This should not need to change once set up.\n",
    "2. an `attendance.csv` that just contains the columns `Name` and `Email`, and just lists the apprentices that attended the workshop in question. This can be most easily obtained by just copying the attendance section out of the Teams report and pasting it into a new CSV.\n",
    "\n",
    "See the included example CSVs for details - you can just copy and paste directly into these (don't forget to remove the example rows!)\n",
    "\n",
    "Once both these files are in place, just run the code below. \n",
    "\n",
    "**Note:** When restricting your list to just one cohort, enter the cohort name exactly as it appears in the `apprentices.csv` file in the variable `COHORT` in the first cell."
   ]
  },
  {
   "cell_type": "code",
   "execution_count": 2,
   "metadata": {},
   "outputs": [],
   "source": [
    "import pandas as pd\n",
    "import datetime\n",
    "\n",
    "# read in all apprentice names, emails and cohorts\n",
    "apps = pd.read_csv('apprentices.csv')\n",
    "apps['email'] = apps['email'].str.lower()\n",
    "apps.rename(columns = {'name': 'app_name'}, inplace = True)\n",
    "\n",
    "# filter for a certain cohort in your apprentices list\n",
    "COHORT = 'DF(OPEN)-SEPT (TEAMS) E'\n",
    "apps = apps[apps['cohort'] == COHORT].copy()\n",
    "\n",
    "# read in attendance report data and just keep name and email columns\n",
    "attn = pd.read_csv('attendance.csv')[['Name', 'Email']]\n",
    "attn.columns = attn.columns.str.lower()\n",
    "attn.rename(columns = {'name': 'teams_handle'}, inplace = True)\n",
    "attn['email'] = attn['email'].str.lower()\n",
    "attn['email'].fillna('no email', inplace = True)\n",
    "attn['attended'] = 'yes'\n",
    "attn.drop_duplicates(inplace = True)\n",
    "\n",
    "# merge\n",
    "all_attn = apps.merge(attn, on = ['email'], how = 'outer')\n",
    "all_attn['attended'].fillna('no', inplace = True)"
   ]
  },
  {
   "cell_type": "markdown",
   "metadata": {},
   "source": [
    "## Did Not Attend\n",
    "\n",
    "The following apprentices did **not** attend:"
   ]
  },
  {
   "cell_type": "code",
   "execution_count": 3,
   "metadata": {},
   "outputs": [
    {
     "data": {
      "text/html": [
       "<div>\n",
       "<style scoped>\n",
       "    .dataframe tbody tr th:only-of-type {\n",
       "        vertical-align: middle;\n",
       "    }\n",
       "\n",
       "    .dataframe tbody tr th {\n",
       "        vertical-align: top;\n",
       "    }\n",
       "\n",
       "    .dataframe thead th {\n",
       "        text-align: right;\n",
       "    }\n",
       "</style>\n",
       "<table border=\"1\" class=\"dataframe\">\n",
       "  <thead>\n",
       "    <tr style=\"text-align: right;\">\n",
       "      <th></th>\n",
       "      <th>app_name</th>\n",
       "      <th>cohort</th>\n",
       "    </tr>\n",
       "  </thead>\n",
       "  <tbody>\n",
       "    <tr>\n",
       "      <th>1</th>\n",
       "      <td>Scam Likely</td>\n",
       "      <td>DF(OPEN)-SEPT (TEAMS) E</td>\n",
       "    </tr>\n",
       "  </tbody>\n",
       "</table>\n",
       "</div>"
      ],
      "text/plain": [
       "      app_name                   cohort\n",
       "1  Scam Likely  DF(OPEN)-SEPT (TEAMS) E"
      ]
     },
     "execution_count": 3,
     "metadata": {},
     "output_type": "execute_result"
    }
   ],
   "source": [
    "all_attn[all_attn['attended'] == 'no'][['app_name', 'cohort']].sort_values(by = ['cohort', 'app_name'])"
   ]
  },
  {
   "cell_type": "markdown",
   "metadata": {},
   "source": [
    "## Attended, No Email\n",
    "\n",
    "The following apprentices attended but did not provide an email to Teams, and so need to be manually checked:"
   ]
  },
  {
   "cell_type": "code",
   "execution_count": 4,
   "metadata": {},
   "outputs": [
    {
     "data": {
      "text/html": [
       "<div>\n",
       "<style scoped>\n",
       "    .dataframe tbody tr th:only-of-type {\n",
       "        vertical-align: middle;\n",
       "    }\n",
       "\n",
       "    .dataframe tbody tr th {\n",
       "        vertical-align: top;\n",
       "    }\n",
       "\n",
       "    .dataframe thead th {\n",
       "        text-align: right;\n",
       "    }\n",
       "</style>\n",
       "<table border=\"1\" class=\"dataframe\">\n",
       "  <thead>\n",
       "    <tr style=\"text-align: right;\">\n",
       "      <th></th>\n",
       "      <th>teams_handle</th>\n",
       "    </tr>\n",
       "  </thead>\n",
       "  <tbody>\n",
       "    <tr>\n",
       "      <th>2</th>\n",
       "      <td>Scam (Likely)</td>\n",
       "    </tr>\n",
       "  </tbody>\n",
       "</table>\n",
       "</div>"
      ],
      "text/plain": [
       "    teams_handle\n",
       "2  Scam (Likely)"
      ]
     },
     "execution_count": 4,
     "metadata": {},
     "output_type": "execute_result"
    }
   ],
   "source": [
    "all_attn[all_attn['email'] == 'no email'][['teams_handle']]"
   ]
  },
  {
   "cell_type": "markdown",
   "metadata": {},
   "source": [
    "## Attended\n",
    "\n",
    "The following apprentices attended:"
   ]
  },
  {
   "cell_type": "code",
   "execution_count": 5,
   "metadata": {},
   "outputs": [
    {
     "data": {
      "text/html": [
       "<div>\n",
       "<style scoped>\n",
       "    .dataframe tbody tr th:only-of-type {\n",
       "        vertical-align: middle;\n",
       "    }\n",
       "\n",
       "    .dataframe tbody tr th {\n",
       "        vertical-align: top;\n",
       "    }\n",
       "\n",
       "    .dataframe thead th {\n",
       "        text-align: right;\n",
       "    }\n",
       "</style>\n",
       "<table border=\"1\" class=\"dataframe\">\n",
       "  <thead>\n",
       "    <tr style=\"text-align: right;\">\n",
       "      <th></th>\n",
       "      <th>app_name</th>\n",
       "      <th>cohort</th>\n",
       "    </tr>\n",
       "  </thead>\n",
       "  <tbody>\n",
       "    <tr>\n",
       "      <th>0</th>\n",
       "      <td>John Smith</td>\n",
       "      <td>DF(OPEN)-SEPT (TEAMS) E</td>\n",
       "    </tr>\n",
       "  </tbody>\n",
       "</table>\n",
       "</div>"
      ],
      "text/plain": [
       "     app_name                   cohort\n",
       "0  John Smith  DF(OPEN)-SEPT (TEAMS) E"
      ]
     },
     "execution_count": 5,
     "metadata": {},
     "output_type": "execute_result"
    }
   ],
   "source": [
    "all_attn[all_attn['attended'] == 'yes'][['app_name', 'cohort']].dropna()"
   ]
  },
  {
   "cell_type": "markdown",
   "metadata": {},
   "source": [
    "## All\n",
    "\n",
    "These are all the apprentices in the cohort alphabetically, with their attendance status. **Note:** Watch out for those that did not provide an email address to Teams being marked as 'no' - check the above section for missing emails!"
   ]
  },
  {
   "cell_type": "code",
   "execution_count": 7,
   "metadata": {},
   "outputs": [
    {
     "data": {
      "text/html": [
       "<style type=\"text/css\">\n",
       "#T_5aedf_row0_col1 {\n",
       "  color: #16a34a;\n",
       "  font-weight: bold;\n",
       "}\n",
       "#T_5aedf_row1_col1 {\n",
       "  color: #b91c1c;\n",
       "  font-weight: bold;\n",
       "}\n",
       "</style>\n",
       "<table id=\"T_5aedf\">\n",
       "  <thead>\n",
       "    <tr>\n",
       "      <th class=\"blank level0\" >&nbsp;</th>\n",
       "      <th id=\"T_5aedf_level0_col0\" class=\"col_heading level0 col0\" >app_name</th>\n",
       "      <th id=\"T_5aedf_level0_col1\" class=\"col_heading level0 col1\" >attended</th>\n",
       "    </tr>\n",
       "  </thead>\n",
       "  <tbody>\n",
       "    <tr>\n",
       "      <th id=\"T_5aedf_level0_row0\" class=\"row_heading level0 row0\" >0</th>\n",
       "      <td id=\"T_5aedf_row0_col0\" class=\"data row0 col0\" >John Smith</td>\n",
       "      <td id=\"T_5aedf_row0_col1\" class=\"data row0 col1\" >yes</td>\n",
       "    </tr>\n",
       "    <tr>\n",
       "      <th id=\"T_5aedf_level0_row1\" class=\"row_heading level0 row1\" >1</th>\n",
       "      <td id=\"T_5aedf_row1_col0\" class=\"data row1 col0\" >Scam Likely</td>\n",
       "      <td id=\"T_5aedf_row1_col1\" class=\"data row1 col1\" >no</td>\n",
       "    </tr>\n",
       "  </tbody>\n",
       "</table>\n"
      ],
      "text/plain": [
       "<pandas.io.formats.style.Styler at 0x2a47f291250>"
      ]
     },
     "execution_count": 7,
     "metadata": {},
     "output_type": "execute_result"
    }
   ],
   "source": [
    "all_attn[['app_name', 'attended']].dropna().sort_values('app_name').style.applymap(lambda x: 'color: #b91c1c;font-weight:bold;' if x == 'no' else 'color: #16a34a;font-weight:bold;', subset = ['attended'])"
   ]
  },
  {
   "cell_type": "markdown",
   "metadata": {},
   "source": [
    "## Save to file\n",
    "\n",
    "**Optional.**\n",
    "\n",
    "Run the cell below to run the full attendance report to a CSV, with today's date added as a column. This could be used later to concat with other attendance reports for further analysis.\n",
    "\n",
    "**Note:** If running this report on a different date to the workshop date, you can also change the `date` column below to another date by uncommenting and entering a custom date string in the format `yyyy-mm-dd` into the `WORKSHOP_DATE` variable below."
   ]
  },
  {
   "cell_type": "code",
   "execution_count": null,
   "metadata": {},
   "outputs": [],
   "source": [
    "WORKSHOP_DATE = datetime.datetime.now().strftime(\"%Y-%m-%d\")\n",
    "# WORKSHOP_DATE = \"23-07-10\"\n",
    "\n",
    "to_save = all_attn[['app_name', 'attended']].dropna().copy()\n",
    "\n",
    "to_save['date'] = pd.to_datetime(WORKSHOP_DATE)\n",
    "\n",
    "# optional - add more metadata to this dataset\n",
    "# this could also be joined later using a simple lookup table and merging on date\n",
    "\n",
    "# to_save['module'] = 1\n",
    "# to_save['workshop_title'] = \"Data in Industry\"\n",
    "# to_save['day'] = 1\n",
    "\n",
    "# save to CSV\n",
    "\n",
    "filename = WORKSHOP_DATE + \"_\" + COHORT + \".csv\"\n",
    "to_save.to_csv(filename)\n"
   ]
  }
 ],
 "metadata": {
  "kernelspec": {
   "display_name": "Python 3",
   "language": "python",
   "name": "python3"
  },
  "language_info": {
   "codemirror_mode": {
    "name": "ipython",
    "version": 3
   },
   "file_extension": ".py",
   "mimetype": "text/x-python",
   "name": "python",
   "nbconvert_exporter": "python",
   "pygments_lexer": "ipython3",
   "version": "3.11.0"
  },
  "orig_nbformat": 4
 },
 "nbformat": 4,
 "nbformat_minor": 2
}
